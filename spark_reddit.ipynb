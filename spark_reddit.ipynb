{
  "nbformat": 4,
  "nbformat_minor": 0,
  "metadata": {
    "colab": {
      "provenance": []
    },
    "kernelspec": {
      "name": "python3",
      "display_name": "Python 3"
    },
    "language_info": {
      "name": "python"
    }
  },
  "cells": [
    {
      "cell_type": "code",
      "execution_count": 1,
      "metadata": {
        "colab": {
          "base_uri": "https://localhost:8080/"
        },
        "id": "5bzBikWsR-TQ",
        "outputId": "1d00351c-0c90-4d2b-e14d-2b3027199216"
      },
      "outputs": [
        {
          "output_type": "stream",
          "name": "stdout",
          "text": [
            "Drive already mounted at /content/drive; to attempt to forcibly remount, call drive.mount(\"/content/drive\", force_remount=True).\n"
          ]
        }
      ],
      "source": [
        "from google.colab import drive\n",
        "drive.mount('/content/drive')\n",
        "import os\n",
        "os.chdir('/content/drive/MyDrive/CapStone')\n",
        "\n",
        "\n"
      ]
    },
    {
      "cell_type": "code",
      "source": [
        "# !ls /content/drive/MyDrive"
      ],
      "metadata": {
        "id": "JGaj0z6_UQK9"
      },
      "execution_count": 2,
      "outputs": []
    },
    {
      "cell_type": "code",
      "source": [
        "import pandas as pd\n",
        "import numpy as np\n",
        "import json"
      ],
      "metadata": {
        "id": "6F_KwB-cSUgA"
      },
      "execution_count": 3,
      "outputs": []
    },
    {
      "cell_type": "code",
      "source": [
        "try :\n",
        "  import praw\n",
        "except:\n",
        "  !pip install praw\n",
        "  import praw"
      ],
      "metadata": {
        "id": "psXUFEjkdEsV"
      },
      "execution_count": 4,
      "outputs": []
    },
    {
      "cell_type": "code",
      "source": [
        "try:\n",
        "  from pyspark import SparkContext\n",
        "  from pyspark.streaming import StreamingContext\n",
        "  from pyspark.sql import SparkSession\n",
        "\n",
        "except:\n",
        "  !pip install pyspark\n",
        "  from pyspark import SparkContext\n",
        "  from pyspark.streaming import StreamingContext\n",
        "  from pyspark.sql import SparkSession\n"
      ],
      "metadata": {
        "id": "LYGZak228nR7"
      },
      "execution_count": 23,
      "outputs": []
    },
    {
      "cell_type": "code",
      "source": [
        "\n",
        "reddit = praw.Reddit(client_id='P4lW9N9FiyiInyH3OEscaw',\n",
        "                     client_secret='cCp4dL4ekj3oPz7pXu5P0cTDHbEf2w',\n",
        "                     user_agent=\"web:com.example.myredditapp:v1.0.1 (by u/OneResearcher9936)\")\n",
        "\n",
        "subreddit = reddit.subreddit('AskReddit')\n",
        "top_posts = subreddit.top(limit=100)"
      ],
      "metadata": {
        "id": "_WfE9-HHTAKK"
      },
      "execution_count": 6,
      "outputs": []
    },
    {
      "cell_type": "code",
      "source": [
        "# top_posts = subreddit.top(limit=100)"
      ],
      "metadata": {
        "id": "bncZOT09dD5_"
      },
      "execution_count": 7,
      "outputs": []
    },
    {
      "cell_type": "code",
      "source": [
        "subreddit = reddit.subreddit('AskReddit')\n",
        "top_posts = subreddit.top(limit=100)\n",
        "\n",
        "# Convert the data to a list of dictionaries\n",
        "data = []\n",
        "for post in top_posts:\n",
        "\n",
        "    data.append({\n",
        "        'title': post.title,\n",
        "        'score': post.score,\n",
        "        'num_comments': post.num_comments,\n",
        "        'created_utc': post.created_utc,\n",
        "        'permalink': post.permalink,\n",
        "        'author': str(post.author)\n",
        "    })\n",
        "\n",
        "# Create a SparkSession\n",
        "spark = SparkSession.builder.appName('RedditAnalysis').getOrCreate()\n",
        "\n",
        "\n",
        "# df = spark.createDataFrame(data)\n",
        "\n",
        "# Analyze the data using Spark SQL\n",
        "# df.createOrReplaceTempView('posts')\n",
        "spark.sql('SELECT author, AVG(score) as avg_score FROM posts GROUP BY author ORDER BY avg_score DESC LIMIT 10').show()\n"
      ],
      "metadata": {
        "id": "oGPIk-J4HKUW",
        "outputId": "7f304980-1b4e-4ef6-d697-5a6e11a57388",
        "colab": {
          "base_uri": "https://localhost:8080/"
        }
      },
      "execution_count": 31,
      "outputs": [
        {
          "output_type": "stream",
          "name": "stderr",
          "text": [
            "WARNING:praw:It appears that you are using PRAW in an asynchronous environment.\n",
            "It is strongly recommended to use Async PRAW: https://asyncpraw.readthedocs.io.\n",
            "See https://praw.readthedocs.io/en/latest/getting_started/multiple_instances.html#discord-bots-and-asynchronous-environments for more info.\n",
            "\n"
          ]
        }
      ]
    },
    {
      "cell_type": "code",
      "source": [
        "df = spark.createDataFrame(data)"
      ],
      "metadata": {
        "id": "hW5czWaRMEHO"
      },
      "execution_count": 32,
      "outputs": []
    },
    {
      "cell_type": "code",
      "source": [
        "df.createOrReplaceTempView('posts')"
      ],
      "metadata": {
        "id": "LKkDfWoyPSk4"
      },
      "execution_count": 34,
      "outputs": []
    },
    {
      "cell_type": "code",
      "source": [
        "spark.sql('SELECT author, AVG(score) as avg_score FROM posts GROUP BY author ORDER BY avg_score DESC LIMIT 10').show()\n"
      ],
      "metadata": {
        "id": "1nhT_C7rPZ8c",
        "outputId": "f5ed4687-4c49-4aca-b5f5-3334cc021465",
        "colab": {
          "base_uri": "https://localhost:8080/"
        }
      },
      "execution_count": 35,
      "outputs": [
        {
          "output_type": "stream",
          "name": "stdout",
          "text": [
            "+------------------+---------+\n",
            "|            author|avg_score|\n",
            "+------------------+---------+\n",
            "|   ShoddySubstance| 221993.0|\n",
            "|SoupIsAHotSmoothie| 217921.0|\n",
            "|       txhorns1330| 197603.0|\n",
            "|          esi_disi| 195913.0|\n",
            "|              Ka1-| 186433.0|\n",
            "|  Cheap_Double9726| 182987.0|\n",
            "|          san69cor| 160333.0|\n",
            "|       lauvnoodles| 154336.0|\n",
            "|           slim_p_| 152116.0|\n",
            "|      PastaM0nster| 148722.0|\n",
            "+------------------+---------+\n",
            "\n"
          ]
        }
      ]
    },
    {
      "cell_type": "code",
      "source": [],
      "metadata": {
        "id": "v35yRQEtfuqT"
      },
      "execution_count": null,
      "outputs": []
    }
  ]
}