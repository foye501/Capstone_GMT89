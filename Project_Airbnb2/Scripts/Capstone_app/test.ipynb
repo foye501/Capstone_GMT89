{
 "cells": [
  {
   "cell_type": "code",
   "execution_count": 8,
   "metadata": {},
   "outputs": [],
   "source": [
    "# import streamlit as st\n",
    "\n",
    "import pandas as pd\n",
    "import numpy as np\n",
    "import os\n",
    "\n",
    "import pydeck as pdk\n",
    "import pickle\n",
    "import sys\n",
    "import cv2\n",
    "\n",
    "sys.path = sys.path + ['../the_pipelines'] + ['../the_pipelines/utiles']\n"
   ]
  },
  {
   "cell_type": "code",
   "execution_count": 7,
   "metadata": {},
   "outputs": [
    {
     "data": {
      "text/plain": [
       "['/Users/chenyangkang/Desktop/MADS/699/Project/Project_Airbnb2/Scripts/Capstone_app',\n",
       " '/Users/chenyangkang/miniforge3/lib/python39.zip',\n",
       " '/Users/chenyangkang/miniforge3/lib/python3.9',\n",
       " '/Users/chenyangkang/miniforge3/lib/python3.9/lib-dynload',\n",
       " '',\n",
       " '/Users/chenyangkang/.local/lib/python3.9/site-packages',\n",
       " '/Users/chenyangkang/miniforge3/lib/python3.9/site-packages',\n",
       " '/Users/chenyangkang/Downloads/detectron2',\n",
       " '../the_pipelines',\n",
       " '../the_pipelines/utiles']"
      ]
     },
     "execution_count": 7,
     "metadata": {},
     "output_type": "execute_result"
    }
   ],
   "source": []
  },
  {
   "cell_type": "code",
   "execution_count": 2,
   "metadata": {},
   "outputs": [],
   "source": [
    "my_capstone_model = pickle.load(open('../the_pipelines/trained_models/overall_model.pkl','rb'))"
   ]
  },
  {
   "cell_type": "code",
   "execution_count": 3,
   "metadata": {},
   "outputs": [
    {
     "ename": "AttributeError",
     "evalue": "'NoneType' object has no attribute 'latitude'",
     "output_type": "error",
     "traceback": [
      "\u001b[0;31m---------------------------------------------------------------------------\u001b[0m",
      "\u001b[0;31mAttributeError\u001b[0m                            Traceback (most recent call last)",
      "\u001b[1;32m/Users/chenyangkang/Desktop/MADS/699/Project/Project_Airbnb2/Scripts/Capstone_app/test.ipynb Cell 3\u001b[0m in \u001b[0;36m<module>\u001b[0;34m\u001b[0m\n\u001b[0;32m----> <a href='vscode-notebook-cell:/Users/chenyangkang/Desktop/MADS/699/Project/Project_Airbnb2/Scripts/Capstone_app/test.ipynb#W0sZmlsZQ%3D%3D?line=0'>1</a>\u001b[0m my_capstone_model\u001b[39m.\u001b[39;49mlocation_processor\u001b[39m.\u001b[39;49mprocess_new_data(\u001b[39m'\u001b[39;49m\u001b[39m1th Helms Ave, Culver City, California, United States\u001b[39;49m\u001b[39m'\u001b[39;49m)\n",
      "File \u001b[0;32m~/Desktop/MADS/699/Project/Project_Airbnb2/Scripts/Capstone_app/../the_pipelines/Location_pipeline.py:101\u001b[0m, in \u001b[0;36mLocation_processor.process_new_data\u001b[0;34m(self, address, ac, beds)\u001b[0m\n\u001b[1;32m     99\u001b[0m   geolocator \u001b[39m=\u001b[39m Nominatim(user_agent\u001b[39m=\u001b[39m\u001b[39m\"\u001b[39m\u001b[39mgmt89\u001b[39m\u001b[39m\"\u001b[39m)\n\u001b[1;32m    100\u001b[0m   location \u001b[39m=\u001b[39m geolocator\u001b[39m.\u001b[39mgeocode(address)\n\u001b[0;32m--> 101\u001b[0m   lat \u001b[39m=\u001b[39m location\u001b[39m.\u001b[39;49mlatitude\n\u001b[1;32m    102\u001b[0m   lon \u001b[39m=\u001b[39m location\u001b[39m.\u001b[39mlongitude\n\u001b[1;32m    104\u001b[0m \u001b[39m## Set queries that are used by the function \"NearbyDisAndNum\"\u001b[39;00m\n",
      "\u001b[0;31mAttributeError\u001b[0m: 'NoneType' object has no attribute 'latitude'"
     ]
    }
   ],
   "source": [
    "my_capstone_model.location_processor.process_new_data('1th Helms Ave, Culver City, California, United States')"
   ]
  },
  {
   "cell_type": "code",
   "execution_count": 4,
   "metadata": {},
   "outputs": [
    {
     "name": "stdout",
     "output_type": "stream",
     "text": [
      "\u001b[0;31mSignature:\u001b[0m\n",
      "\u001b[0mmy_capstone_model\u001b[0m\u001b[0;34m.\u001b[0m\u001b[0mlocation_processor\u001b[0m\u001b[0;34m.\u001b[0m\u001b[0mprocess_new_data\u001b[0m\u001b[0;34m(\u001b[0m\u001b[0;34m\u001b[0m\n",
      "\u001b[0;34m\u001b[0m    \u001b[0maddress\u001b[0m\u001b[0;34m,\u001b[0m\u001b[0;34m\u001b[0m\n",
      "\u001b[0;34m\u001b[0m    \u001b[0mac\u001b[0m\u001b[0;34m=\u001b[0m\u001b[0;32mNone\u001b[0m\u001b[0;34m,\u001b[0m\u001b[0;34m\u001b[0m\n",
      "\u001b[0;34m\u001b[0m    \u001b[0mbeds\u001b[0m\u001b[0;34m=\u001b[0m\u001b[0;32mNone\u001b[0m\u001b[0;34m,\u001b[0m\u001b[0;34m\u001b[0m\n",
      "\u001b[0;34m\u001b[0m\u001b[0;34m)\u001b[0m\u001b[0;34m\u001b[0m\u001b[0;34m\u001b[0m\u001b[0m\n",
      "\u001b[0;31mDocstring:\u001b[0m <no docstring>\n",
      "\u001b[0;31mFile:\u001b[0m      ~/Desktop/MADS/699/Project/Project_Airbnb2/Scripts/the_pipelines/Location_pipeline.py\n",
      "\u001b[0;31mType:\u001b[0m      method\n"
     ]
    }
   ],
   "source": [
    "?my_capstone_model.location_processor.process_new_data"
   ]
  },
  {
   "cell_type": "code",
   "execution_count": 1,
   "metadata": {},
   "outputs": [],
   "source": [
    "from geopy.geocoders import Nominatim\n",
    "geolocator = Nominatim(user_agent=\"gmt89\")\n",
    "location = geolocator.geocode('1st Helms Ave, Culver City, California, United States')"
   ]
  },
  {
   "cell_type": "code",
   "execution_count": 2,
   "metadata": {},
   "outputs": [
    {
     "data": {
      "text/plain": [
       "-118.3832159"
      ]
     },
     "execution_count": 2,
     "metadata": {},
     "output_type": "execute_result"
    }
   ],
   "source": [
    "location.longitude"
   ]
  },
  {
   "cell_type": "code",
   "execution_count": 3,
   "metadata": {},
   "outputs": [],
   "source": [
    "a = 'node[\"highway\"=\"bus_stop\"](around:500, {0}, {1}); out;'"
   ]
  },
  {
   "cell_type": "code",
   "execution_count": 4,
   "metadata": {},
   "outputs": [],
   "source": [
    "import overpy\n",
    "api = overpy.Overpass()\n",
    "result = api.query(a.format(location.latitude, location.longitude))"
   ]
  },
  {
   "cell_type": "code",
   "execution_count": 5,
   "metadata": {},
   "outputs": [],
   "source": [
    "import math\n",
    "def NearbyDisAndNum(api, lat, lon, query):\n",
    "    if lat == None:\n",
    "        return (None, None)\n",
    "    else:\n",
    "        print('start requesting')\n",
    "        result = api.query(query.format(lat, lon))\n",
    "        print('finish requesting')\n",
    "        closest_distance = math.inf\n",
    "        for node in result.nodes:\n",
    "            print('node',node)\n",
    "            distance = math.sqrt((float(node.lat) - lat)**2 + (float(node.lon) - lon)**2)\n",
    "            if distance < closest_distance:\n",
    "                closest_distance = distance\n",
    "        return (closest_distance,len(result.nodes))"
   ]
  },
  {
   "cell_type": "code",
   "execution_count": 6,
   "metadata": {},
   "outputs": [
    {
     "name": "stdout",
     "output_type": "stream",
     "text": [
      "start requesting\n",
      "finish requesting\n",
      "node <overpy.Node id=7831489200 lat=34.0295259 lon=-118.3876240>\n",
      "node <overpy.Node id=7831489201 lat=34.0277033 lon=-118.3875720>\n",
      "node <overpy.Node id=7831489202 lat=34.0272775 lon=-118.3878308>\n",
      "node <overpy.Node id=7862816024 lat=34.0310813 lon=-118.3855638>\n",
      "node <overpy.Node id=7862816025 lat=34.0309259 lon=-118.3851690>\n",
      "node <overpy.Node id=7862972645 lat=34.0297267 lon=-118.3841676>\n",
      "node <overpy.Node id=7862972646 lat=34.0295985 lon=-118.3839740>\n",
      "node <overpy.Node id=7862972647 lat=34.0304805 lon=-118.3816144>\n",
      "node <overpy.Node id=7862972648 lat=34.0304616 lon=-118.3807827>\n",
      "node <overpy.Node id=7993171362 lat=34.0234013 lon=-118.3817950>\n",
      "node <overpy.Node id=8309797602 lat=34.0235573 lon=-118.3810980>\n",
      "node <overpy.Node id=9216696873 lat=34.0279160 lon=-118.3872370>\n"
     ]
    },
    {
     "data": {
      "text/plain": [
       "(0.002475916923077409, 12)"
      ]
     },
     "execution_count": 6,
     "metadata": {},
     "output_type": "execute_result"
    }
   ],
   "source": [
    "api = overpy.Overpass()\n",
    "NearbyDisAndNum(api,location.latitude, location.longitude, a)"
   ]
  },
  {
   "cell_type": "code",
   "execution_count": 9,
   "metadata": {},
   "outputs": [],
   "source": [
    "import pickle\n",
    "a = pickle.load(open('../the_pipelines/saved_pipelines/location_processor.pkl','rb'))"
   ]
  },
  {
   "cell_type": "code",
   "execution_count": null,
   "metadata": {},
   "outputs": [],
   "source": []
  },
  {
   "cell_type": "code",
   "execution_count": 11,
   "metadata": {},
   "outputs": [
    {
     "name": "stdout",
     "output_type": "stream",
     "text": [
      "parsed location:  Helms Avenue, Culver City Arts District, Culver City, Los Angeles County, CAL Fire Contract Counties, California, 90232, United States\n",
      "Set queries that are used by the function \"NearbyDisAndNum\"\n",
      "Extract a distance and number \n",
      "getting... bus_stop_500m\n",
      "start requesting\n",
      "finish requesting\n",
      "node <overpy.Node id=7831489200 lat=34.0295259 lon=-118.3876240>\n",
      "node <overpy.Node id=7831489201 lat=34.0277033 lon=-118.3875720>\n",
      "node <overpy.Node id=7831489202 lat=34.0272775 lon=-118.3878308>\n",
      "node <overpy.Node id=7862816024 lat=34.0310813 lon=-118.3855638>\n",
      "node <overpy.Node id=7862816025 lat=34.0309259 lon=-118.3851690>\n",
      "node <overpy.Node id=7862972645 lat=34.0297267 lon=-118.3841676>\n",
      "node <overpy.Node id=7862972646 lat=34.0295985 lon=-118.3839740>\n",
      "node <overpy.Node id=7862972647 lat=34.0304805 lon=-118.3816144>\n",
      "node <overpy.Node id=7862972648 lat=34.0304616 lon=-118.3807827>\n",
      "node <overpy.Node id=7993171362 lat=34.0234013 lon=-118.3817950>\n",
      "node <overpy.Node id=8309797602 lat=34.0235573 lon=-118.3810980>\n",
      "node <overpy.Node id=9216696873 lat=34.0279160 lon=-118.3872370>\n",
      "getting... bus_stop_1000m\n",
      "start requesting\n",
      "finish requesting\n",
      "node <overpy.Node id=3961992049 lat=34.0269813 lon=-118.3928260>\n",
      "node <overpy.Node id=7831489194 lat=34.0313582 lon=-118.3912920>\n",
      "node <overpy.Node id=7831489195 lat=34.0309703 lon=-118.3906570>\n",
      "node <overpy.Node id=7831489196 lat=34.0312132 lon=-118.3906330>\n",
      "node <overpy.Node id=7831489197 lat=34.0295025 lon=-118.3885580>\n",
      "node <overpy.Node id=7831489198 lat=34.0297088 lon=-118.3884850>\n",
      "node <overpy.Node id=7831489199 lat=34.0293271 lon=-118.3887000>\n",
      "node <overpy.Node id=7831489200 lat=34.0295259 lon=-118.3876240>\n",
      "node <overpy.Node id=7831489201 lat=34.0277033 lon=-118.3875720>\n",
      "node <overpy.Node id=7831489202 lat=34.0272775 lon=-118.3878308>\n",
      "node <overpy.Node id=7831489203 lat=34.0258316 lon=-118.3906950>\n",
      "node <overpy.Node id=7831489204 lat=34.0260537 lon=-118.3899250>\n",
      "node <overpy.Node id=7831489205 lat=34.0267386 lon=-118.3900630>\n",
      "node <overpy.Node id=7831489206 lat=34.0274295 lon=-118.3899720>\n",
      "node <overpy.Node id=7831489207 lat=34.0276157 lon=-118.3899460>\n",
      "node <overpy.Node id=7831489208 lat=34.0283603 lon=-118.3897730>\n",
      "node <overpy.Node id=7831489209 lat=34.0284826 lon=-118.3902450>\n",
      "node <overpy.Node id=7833239112 lat=34.0267332 lon=-118.3926709>\n",
      "node <overpy.Node id=7860262473 lat=34.0210397 lon=-118.3785370>\n",
      "node <overpy.Node id=7860262474 lat=34.0217146 lon=-118.3748180>\n",
      "node <overpy.Node id=7862816024 lat=34.0310813 lon=-118.3855638>\n",
      "node <overpy.Node id=7862816025 lat=34.0309259 lon=-118.3851690>\n",
      "node <overpy.Node id=7862816026 lat=34.0328064 lon=-118.3818605>\n",
      "node <overpy.Node id=7862816027 lat=34.0326741 lon=-118.3827550>\n",
      "node <overpy.Node id=7862972645 lat=34.0297267 lon=-118.3841676>\n",
      "node <overpy.Node id=7862972646 lat=34.0295985 lon=-118.3839740>\n",
      "node <overpy.Node id=7862972647 lat=34.0304805 lon=-118.3816144>\n",
      "node <overpy.Node id=7862972648 lat=34.0304616 lon=-118.3807827>\n",
      "node <overpy.Node id=7862972651 lat=34.0310483 lon=-118.3794820>\n",
      "node <overpy.Node id=7862972652 lat=34.0311058 lon=-118.3783670>\n",
      "node <overpy.Node id=7862972653 lat=34.0323351 lon=-118.3750338>\n",
      "node <overpy.Node id=7993171358 lat=34.0256113 lon=-118.3900090>\n",
      "node <overpy.Node id=7993171359 lat=34.0254634 lon=-118.3900840>\n",
      "node <overpy.Node id=7993171360 lat=34.0226843 lon=-118.3844180>\n",
      "node <overpy.Node id=7993171361 lat=34.0228099 lon=-118.3844910>\n",
      "node <overpy.Node id=7993171362 lat=34.0234013 lon=-118.3817950>\n",
      "node <overpy.Node id=7993171363 lat=34.0221827 lon=-118.3790980>\n",
      "node <overpy.Node id=7993443502 lat=34.0210611 lon=-118.3780440>\n",
      "node <overpy.Node id=8026945346 lat=34.0330706 lon=-118.3899985>\n",
      "node <overpy.Node id=8026945347 lat=34.0332062 lon=-118.3896605>\n",
      "node <overpy.Node id=8026945348 lat=34.0346932 lon=-118.3892877>\n",
      "node <overpy.Node id=8309797602 lat=34.0235573 lon=-118.3810980>\n",
      "node <overpy.Node id=9216696873 lat=34.0279160 lon=-118.3872370>\n",
      "node <overpy.Node id=9423765034 lat=34.0312698 lon=-118.3789720>\n",
      "getting... station_500m\n",
      "start requesting\n",
      "finish requesting\n",
      "getting... station_1000m\n",
      "start requesting\n",
      "finish requesting\n",
      "node <overpy.Node id=1618274502 lat=34.0278787 lon=-118.3888493>\n",
      "getting... cafe_500m\n",
      "start requesting\n",
      "finish requesting\n",
      "node <overpy.Node id=4582147852 lat=34.0270635 lon=-118.3875800>\n",
      "node <overpy.Node id=8303884636 lat=34.0272108 lon=-118.3873201>\n",
      "node <overpy.Node id=8358349874 lat=34.0245954 lon=-118.3813639>\n",
      "node <overpy.Node id=8947033569 lat=34.0296840 lon=-118.3835610>\n",
      "node <overpy.Node id=9953188014 lat=34.0308487 lon=-118.3803910>\n",
      "Requesting NearbyNum\n",
      "Extract number of facilities by the function \"NearbyNum\"\n",
      "Extract real estate average price\n",
      "mean price with same accommodates and beds\n",
      "Preparing sightseeng dataset\n",
      "Preparing final location features\n"
     ]
    },
    {
     "data": {
      "text/html": [
       "<div>\n",
       "<style scoped>\n",
       "    .dataframe tbody tr th:only-of-type {\n",
       "        vertical-align: middle;\n",
       "    }\n",
       "\n",
       "    .dataframe tbody tr th {\n",
       "        vertical-align: top;\n",
       "    }\n",
       "\n",
       "    .dataframe thead th {\n",
       "        text-align: right;\n",
       "    }\n",
       "</style>\n",
       "<table border=\"1\" class=\"dataframe\">\n",
       "  <thead>\n",
       "    <tr style=\"text-align: right;\">\n",
       "      <th></th>\n",
       "      <th>Location_cafe_500m_dis</th>\n",
       "      <th>Location_cafe_500m_num</th>\n",
       "      <th>Location_restaurant_num</th>\n",
       "      <th>Location_supermarket_num</th>\n",
       "      <th>Location_real_estate</th>\n",
       "      <th>Location_mean_area_accommodates_price</th>\n",
       "      <th>Location_mean_area_beds_price</th>\n",
       "      <th>Location_Hollywood Walk of Fame</th>\n",
       "      <th>Location_Griffith Observatory</th>\n",
       "      <th>Location_Universal Studios Hollywood</th>\n",
       "      <th>...</th>\n",
       "      <th>Location_Melrose Avenue</th>\n",
       "      <th>Location_ACMA</th>\n",
       "      <th>Location_Rodeo Drive</th>\n",
       "      <th>Location_Santa Monica Promenade</th>\n",
       "      <th>Location_Farmers Market</th>\n",
       "      <th>Location_Abbot Kinney Blvd</th>\n",
       "      <th>Location_Los Angeles International Airport</th>\n",
       "      <th>Location_transport_most_close_dis</th>\n",
       "      <th>Location_transport_1000m_num</th>\n",
       "      <th>Location_transport_500m_num</th>\n",
       "    </tr>\n",
       "  </thead>\n",
       "  <tbody>\n",
       "    <tr>\n",
       "      <th>0</th>\n",
       "      <td>0.27381</td>\n",
       "      <td>5</td>\n",
       "      <td>None</td>\n",
       "      <td>None</td>\n",
       "      <td>1.663967e+06</td>\n",
       "      <td>None</td>\n",
       "      <td>None</td>\n",
       "      <td>9.15</td>\n",
       "      <td>12.67</td>\n",
       "      <td>12.7</td>\n",
       "      <td>...</td>\n",
       "      <td>6.07</td>\n",
       "      <td>4.66</td>\n",
       "      <td>5.18</td>\n",
       "      <td>10.63</td>\n",
       "      <td>5.39</td>\n",
       "      <td>8.51</td>\n",
       "      <td>53.07</td>\n",
       "      <td>0.274827</td>\n",
       "      <td>45</td>\n",
       "      <td>12</td>\n",
       "    </tr>\n",
       "  </tbody>\n",
       "</table>\n",
       "<p>1 rows × 28 columns</p>\n",
       "</div>"
      ],
      "text/plain": [
       "   Location_cafe_500m_dis  Location_cafe_500m_num Location_restaurant_num  \\\n",
       "0                 0.27381                       5                    None   \n",
       "\n",
       "  Location_supermarket_num  Location_real_estate  \\\n",
       "0                     None          1.663967e+06   \n",
       "\n",
       "  Location_mean_area_accommodates_price Location_mean_area_beds_price  \\\n",
       "0                                  None                          None   \n",
       "\n",
       "   Location_Hollywood Walk of Fame  Location_Griffith Observatory  \\\n",
       "0                             9.15                          12.67   \n",
       "\n",
       "   Location_Universal Studios Hollywood  ...  Location_Melrose Avenue  \\\n",
       "0                                  12.7  ...                     6.07   \n",
       "\n",
       "   Location_ACMA  Location_Rodeo Drive  Location_Santa Monica Promenade  \\\n",
       "0           4.66                  5.18                            10.63   \n",
       "\n",
       "   Location_Farmers Market  Location_Abbot Kinney Blvd  \\\n",
       "0                     5.39                        8.51   \n",
       "\n",
       "   Location_Los Angeles International Airport  \\\n",
       "0                                       53.07   \n",
       "\n",
       "   Location_transport_most_close_dis  Location_transport_1000m_num  \\\n",
       "0                           0.274827                            45   \n",
       "\n",
       "   Location_transport_500m_num  \n",
       "0                           12  \n",
       "\n",
       "[1 rows x 28 columns]"
      ]
     },
     "execution_count": 11,
     "metadata": {},
     "output_type": "execute_result"
    }
   ],
   "source": [
    "a.process_new_data(overpy.Overpass(),'1st Helms Ave, Culver City, California, United States')"
   ]
  },
  {
   "cell_type": "code",
   "execution_count": 30,
   "metadata": {},
   "outputs": [
    {
     "data": {
      "text/plain": [
       "'../the_pipelines/utilesRealEstateByZip.pkl'"
      ]
     },
     "execution_count": 30,
     "metadata": {},
     "output_type": "execute_result"
    }
   ],
   "source": []
  },
  {
   "cell_type": "code",
   "execution_count": 12,
   "metadata": {},
   "outputs": [
    {
     "name": "stdout",
     "output_type": "stream",
     "text": [
      "-rw-rw-r--@ 1 chenyangkang  staff  649322 Mar 25 18:59 ../the_pipelines/utiles/RealEstateByZip.pkl\n"
     ]
    }
   ],
   "source": [
    "ll ../the_pipelines/utiles/RealEstateByZip.pkl"
   ]
  },
  {
   "cell_type": "code",
   "execution_count": 14,
   "metadata": {},
   "outputs": [
    {
     "data": {
      "text/plain": [
       "'/Users/chenyangkang/Desktop/MADS/699/Project/Project_Airbnb2/Scripts/Capstone_app/utiles/area_features.pkl'"
      ]
     },
     "execution_count": 14,
     "metadata": {},
     "output_type": "execute_result"
    }
   ],
   "source": [
    "os.path.abspath('utiles/area_features.pkl')"
   ]
  }
 ],
 "metadata": {
  "kernelspec": {
   "display_name": "base",
   "language": "python",
   "name": "python3"
  },
  "language_info": {
   "codemirror_mode": {
    "name": "ipython",
    "version": 3
   },
   "file_extension": ".py",
   "mimetype": "text/x-python",
   "name": "python",
   "nbconvert_exporter": "python",
   "pygments_lexer": "ipython3",
   "version": "3.9.7"
  },
  "orig_nbformat": 4,
  "vscode": {
   "interpreter": {
    "hash": "1e9867b585c0f10e2eb480253e40cab44b53d9f15cdd7fb9c79b17a5cb2fa039"
   }
  }
 },
 "nbformat": 4,
 "nbformat_minor": 2
}
