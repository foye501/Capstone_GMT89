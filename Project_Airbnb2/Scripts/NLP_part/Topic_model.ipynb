{
 "cells": [
  {
   "cell_type": "code",
   "execution_count": 20,
   "id": "8fd1e3e0",
   "metadata": {},
   "outputs": [],
   "source": [
    "import pandas as pd\n",
    "from sklearn.feature_extraction.text import CountVectorizer,TfidfVectorizer\n",
    "from sklearn.decomposition import LatentDirichletAllocation"
   ]
  },
  {
   "cell_type": "code",
   "execution_count": null,
   "id": "fbc159dd",
   "metadata": {},
   "outputs": [],
   "source": []
  },
  {
   "cell_type": "code",
   "execution_count": 6,
   "id": "695a9f95",
   "metadata": {},
   "outputs": [],
   "source": [
    "df = pd.read_csv(\"reviews (1).csv.gz\",compression=\"gzip\")"
   ]
  },
  {
   "cell_type": "code",
   "execution_count": 7,
   "id": "fbcd46f1",
   "metadata": {},
   "outputs": [
    {
     "data": {
      "text/html": [
       "<div>\n",
       "<style scoped>\n",
       "    .dataframe tbody tr th:only-of-type {\n",
       "        vertical-align: middle;\n",
       "    }\n",
       "\n",
       "    .dataframe tbody tr th {\n",
       "        vertical-align: top;\n",
       "    }\n",
       "\n",
       "    .dataframe thead th {\n",
       "        text-align: right;\n",
       "    }\n",
       "</style>\n",
       "<table border=\"1\" class=\"dataframe\">\n",
       "  <thead>\n",
       "    <tr style=\"text-align: right;\">\n",
       "      <th></th>\n",
       "      <th>listing_id</th>\n",
       "      <th>id</th>\n",
       "      <th>date</th>\n",
       "      <th>reviewer_id</th>\n",
       "      <th>reviewer_name</th>\n",
       "      <th>comments</th>\n",
       "    </tr>\n",
       "  </thead>\n",
       "  <tbody>\n",
       "    <tr>\n",
       "      <th>0</th>\n",
       "      <td>109</td>\n",
       "      <td>449036</td>\n",
       "      <td>2011-08-15</td>\n",
       "      <td>927861</td>\n",
       "      <td>Edwin</td>\n",
       "      <td>The host canceled my reservation the day befor...</td>\n",
       "    </tr>\n",
       "    <tr>\n",
       "      <th>1</th>\n",
       "      <td>109</td>\n",
       "      <td>74506539</td>\n",
       "      <td>2016-05-15</td>\n",
       "      <td>22509885</td>\n",
       "      <td>Jenn</td>\n",
       "      <td>Me and two friends stayed for four and a half ...</td>\n",
       "    </tr>\n",
       "    <tr>\n",
       "      <th>2</th>\n",
       "      <td>206662</td>\n",
       "      <td>780773</td>\n",
       "      <td>2011-12-12</td>\n",
       "      <td>1465676</td>\n",
       "      <td>Orlando</td>\n",
       "      <td>Kevin is great Host, the apartment is clean an...</td>\n",
       "    </tr>\n",
       "    <tr>\n",
       "      <th>3</th>\n",
       "      <td>206662</td>\n",
       "      <td>791960</td>\n",
       "      <td>2011-12-18</td>\n",
       "      <td>1465676</td>\n",
       "      <td>Orlando</td>\n",
       "      <td>Excellent Host and excellent place, clean and ...</td>\n",
       "    </tr>\n",
       "    <tr>\n",
       "      <th>4</th>\n",
       "      <td>206662</td>\n",
       "      <td>932852</td>\n",
       "      <td>2012-02-20</td>\n",
       "      <td>1559443</td>\n",
       "      <td>Nadine</td>\n",
       "      <td>I had a wonderful stay here and felt at home. ...</td>\n",
       "    </tr>\n",
       "  </tbody>\n",
       "</table>\n",
       "</div>"
      ],
      "text/plain": [
       "   listing_id        id        date  reviewer_id reviewer_name  \\\n",
       "0         109    449036  2011-08-15       927861         Edwin   \n",
       "1         109  74506539  2016-05-15     22509885          Jenn   \n",
       "2      206662    780773  2011-12-12      1465676       Orlando   \n",
       "3      206662    791960  2011-12-18      1465676       Orlando   \n",
       "4      206662    932852  2012-02-20      1559443        Nadine   \n",
       "\n",
       "                                            comments  \n",
       "0  The host canceled my reservation the day befor...  \n",
       "1  Me and two friends stayed for four and a half ...  \n",
       "2  Kevin is great Host, the apartment is clean an...  \n",
       "3  Excellent Host and excellent place, clean and ...  \n",
       "4  I had a wonderful stay here and felt at home. ...  "
      ]
     },
     "execution_count": 7,
     "metadata": {},
     "output_type": "execute_result"
    }
   ],
   "source": [
    "df.head()"
   ]
  },
  {
   "cell_type": "code",
   "execution_count": 11,
   "id": "1cb6770b",
   "metadata": {},
   "outputs": [],
   "source": [
    "df[\"c_len\"] =df[\"comments\"].dropna().str.split(\"\").map(len)"
   ]
  },
  {
   "cell_type": "code",
   "execution_count": 15,
   "id": "801131e5",
   "metadata": {},
   "outputs": [
    {
     "data": {
      "text/plain": [
       "count    1.356931e+06\n",
       "mean     2.382752e+02\n",
       "std      2.590350e+02\n",
       "min      3.000000e+00\n",
       "25%      8.100000e+01\n",
       "50%      1.670000e+02\n",
       "75%      3.070000e+02\n",
       "max      6.114000e+03\n",
       "Name: c_len, dtype: float64"
      ]
     },
     "execution_count": 15,
     "metadata": {},
     "output_type": "execute_result"
    }
   ],
   "source": [
    "df[\"c_len\"].describe()"
   ]
  },
  {
   "cell_type": "code",
   "execution_count": 19,
   "id": "af53c51c",
   "metadata": {},
   "outputs": [
    {
     "data": {
      "text/plain": [
       "<AxesSubplot: >"
      ]
     },
     "execution_count": 19,
     "metadata": {},
     "output_type": "execute_result"
    },
    {
     "data": {
      "image/png": "[encoded data removed]",
      "text/plain": [
       "<Figure size 640x480 with 1 Axes>"
      ]
     },
     "metadata": {},
     "output_type": "display_data"
    }
   ],
   "source": [
    "df[\"c_len\"].hist(bins=30)"
   ]
  },
  {
   "cell_type": "code",
   "execution_count": 26,
   "id": "c999ddd7",
   "metadata": {},
   "outputs": [],
   "source": [
    "df =df.dropna(subset=\"comments\")"
   ]
  },
  {
   "cell_type": "code",
   "execution_count": null,
   "id": "88712df6",
   "metadata": {},
   "outputs": [],
   "source": [
    "\n",
    "\n",
    "\n",
    "# Vectorize the text data using a CountVectorizer\n",
    "# vectorizer = CountVectorizer(max_features=1000, stop_words='english')\n",
    "\n",
    "vectorizer = TfidfVectorizer(max_features=1000, stop_words='english')\n",
    "\n",
    "X = vectorizer.fit_transform(df[\"comments\"].dropna())\n",
    "\n",
    "# Train the LDA model with 10 topics\n",
    "lda = LatentDirichletAllocation(n_components=5, random_state=42)\n",
    "lda.fit(X)\n",
    "\n",
    "# Print the top 10 words associated with each topic\n",
    "feature_names = vectorizer.get_feature_names()\n",
    "\n"
   ]
  },
  {
   "cell_type": "code",
   "execution_count": null,
   "id": "7075dbf8",
   "metadata": {},
   "outputs": [],
   "source": [
    "# evaluate the LDA model\n",
    "perplexity = lda.perplexity(df[\"comments\"])\n"
   ]
  },
  {
   "cell_type": "code",
   "execution_count": null,
   "id": "a33213ba",
   "metadata": {},
   "outputs": [],
   "source": [
    "# we can detect the most frequent aspect concerned by customer.\n",
    "for topic_idx, topic in enumerate(lda.components_):\n",
    "    print(\"Topic #%d:\" % topic_idx)\n",
    "    print(\" \".join([feature_names[i]\n",
    "                    for i in topic.argsort()[:-10 - 1:-1]]))\n",
    "    print()\n"
   ]
  },
  {
   "cell_type": "code",
   "execution_count": null,
   "id": "f46d6771",
   "metadata": {},
   "outputs": [],
   "source": [
    "# next, I will compare several hyperparameters to get a good n_components"
   ]
  }
 ],
 "metadata": {
  "kernelspec": {
   "display_name": "kuituosi",
   "language": "python",
   "name": "kuituosi"
  },
  "language_info": {
   "codemirror_mode": {
    "name": "ipython",
    "version": 3
   },
   "file_extension": ".py",
   "mimetype": "text/x-python",
   "name": "python",
   "nbconvert_exporter": "python",
   "pygments_lexer": "ipython3",
   "version": "3.9.0"
  }
 },
 "nbformat": 4,
 "nbformat_minor": 5
}
