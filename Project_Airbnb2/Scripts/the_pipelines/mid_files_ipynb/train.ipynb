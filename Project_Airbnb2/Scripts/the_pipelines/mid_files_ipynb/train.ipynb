{
 "cells": [
  {
   "cell_type": "code",
   "execution_count": 1,
   "metadata": {},
   "outputs": [],
   "source": [
    "import pandas as pd\n",
    "import numpy as np\n",
    "import pickle\n",
    "import matplotlib.pyplot as plt\n",
    "import seaborn as sns\n",
    "from tqdm import tqdm\n",
    "from warnings import filterwarnings\n",
    "filterwarnings('ignore')\n",
    "import datetime\n",
    "import pickle\n",
    "from textwrap import dedent"
   ]
  },
  {
   "cell_type": "code",
   "execution_count": 2,
   "metadata": {},
   "outputs": [],
   "source": [
    "### read features\n",
    "data = pd.read_csv('./final_features/LA_extracted_all_features_imputed.csv')"
   ]
  },
  {
   "cell_type": "code",
   "execution_count": 3,
   "metadata": {},
   "outputs": [],
   "source": [
    "from Airbnb_Capstone_Model import My_Airbnb_Capstone_Model"
   ]
  },
  {
   "cell_type": "code",
   "execution_count": 4,
   "metadata": {},
   "outputs": [],
   "source": [
    "my_model = My_Airbnb_Capstone_Model()"
   ]
  },
  {
   "cell_type": "code",
   "execution_count": 5,
   "metadata": {},
   "outputs": [
    {
     "name": "stdout",
     "output_type": "stream",
     "text": [
      "Filling infinite values with -1 ...\n",
      "\n",
      "Amenities raw features count: 174\n",
      "Location raw features count: 28\n",
      "Image raw features count: 617\n",
      "NLP raw features count: 994\n",
      "\n",
      "\n",
      "X_train shape: (26206, 1813)\n",
      "X_test shape: (11232, 1813)\n",
      "y_train shape: (26206,)\n",
      "y_test shape: (11232,)\n",
      "\n"
     ]
    }
   ],
   "source": [
    "X_train, X_test,y_train,y_test = my_model.my_train_test_split(data) ### take the LA_extracted_all_features_imputed.csv\n"
   ]
  },
  {
   "cell_type": "code",
   "execution_count": 6,
   "metadata": {},
   "outputs": [
    {
     "name": "stdout",
     "output_type": "stream",
     "text": [
      "Feature transformation...\n",
      "X_train shape after transformation: (26206, 1813)\n"
     ]
    },
    {
     "name": "stderr",
     "output_type": "stream",
     "text": [
      "Training quantile models: 100%|██████████| 5/5 [01:26<00:00, 17.33s/it]\n"
     ]
    },
    {
     "name": "stdout",
     "output_type": "stream",
     "text": [
      "quantile:  0.05\n",
      "{'r2': -490.602944377791, 'mean_squared_error': 1549569.5888356357, 'spearmanr': 0.8479048607352986}\n",
      "quantile:  0.25\n",
      "{'r2': -43.74941148911333, 'mean_squared_error': 1433887.976498013, 'spearmanr': 0.8764605254964462}\n",
      "quantile:  0.5\n",
      "{'r2': -11.321212213344404, 'mean_squared_error': 1321899.7165026078, 'spearmanr': 0.8790818997588143}\n",
      "quantile:  0.75\n",
      "{'r2': -4.034299130157855, 'mean_squared_error': 1241739.825451579, 'spearmanr': 0.8601576778234489}\n",
      "quantile:  0.95\n",
      "{'r2': -0.7800628044273761, 'mean_squared_error': 1266133.7825996873, 'spearmanr': 0.7678032378610308}\n"
     ]
    }
   ],
   "source": [
    "my_model.train(X_train, X_test, y_train, y_test)"
   ]
  },
  {
   "cell_type": "code",
   "execution_count": 7,
   "metadata": {},
   "outputs": [],
   "source": [
    "with open('./trained_models/overall_model.pkl','wb') as f:\n",
    "    pickle.dump(my_model, f)"
   ]
  },
  {
   "cell_type": "code",
   "execution_count": null,
   "metadata": {},
   "outputs": [],
   "source": []
  },
  {
   "cell_type": "code",
   "execution_count": null,
   "metadata": {},
   "outputs": [],
   "source": []
  }
 ],
 "metadata": {
  "kernelspec": {
   "display_name": "base",
   "language": "python",
   "name": "python3"
  },
  "language_info": {
   "codemirror_mode": {
    "name": "ipython",
    "version": 3
   },
   "file_extension": ".py",
   "mimetype": "text/x-python",
   "name": "python",
   "nbconvert_exporter": "python",
   "pygments_lexer": "ipython3",
   "version": "3.9.7"
  },
  "orig_nbformat": 4,
  "vscode": {
   "interpreter": {
    "hash": "1e9867b585c0f10e2eb480253e40cab44b53d9f15cdd7fb9c79b17a5cb2fa039"
   }
  }
 },
 "nbformat": 4,
 "nbformat_minor": 2
}
