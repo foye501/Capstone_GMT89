{
 "cells": [
  {
   "cell_type": "code",
   "execution_count": 1,
   "metadata": {},
   "outputs": [
    {
     "name": "stderr",
     "output_type": "stream",
     "text": [
      "/Users/chenyangkang/miniforge3/lib/python3.9/site-packages/xgboost/compat.py:36: FutureWarning: pandas.Int64Index is deprecated and will be removed from pandas in a future version. Use pandas.Index with the appropriate dtype instead.\n",
      "  from pandas import MultiIndex, Int64Index\n"
     ]
    }
   ],
   "source": [
    "import pandas as pd\n",
    "import numpy as np\n",
    "import openpyxl\n",
    "import re\n",
    "from re import sub\n",
    "from decimal import Decimal\n",
    "import time\n",
    "from sklearn.feature_extraction.text import TfidfVectorizer, CountVectorizer\n",
    "from numpy import unique, where\n",
    "from sklearn.ensemble import RandomForestRegressor\n",
    "import matplotlib.pyplot as plt\n",
    "from sklearn.datasets import make_classification\n",
    "from sklearn.mixture import GaussianMixture\n",
    "from sklearn.cluster import KMeans\n",
    "from scipy.spatial.distance import cdist\n",
    "from sklearn.metrics import r2_score, silhouette_samples, silhouette_score , completeness_score , homogeneity_score\n",
    "from sklearn.model_selection import GridSearchCV\n",
    "from sklearn.model_selection import train_test_split\n",
    "from xgboost import XGBRegressor\n",
    "from IPython.display import display, HTML, display_html\n",
    "import pickle\n",
    "from sklearn.preprocessing import LabelEncoder\n",
    "from sklearn.impute import SimpleImputer\n"
   ]
  },
  {
   "cell_type": "code",
   "execution_count": 2,
   "metadata": {},
   "outputs": [],
   "source": []
  },
  {
   "cell_type": "code",
   "execution_count": 3,
   "metadata": {},
   "outputs": [],
   "source": [
    "df = pd.read_csv('../../Data/LA_Airbnb/listings_detailed.csv')"
   ]
  },
  {
   "cell_type": "code",
   "execution_count": 4,
   "metadata": {},
   "outputs": [],
   "source": [
    "prohibitedWords = ['private', 'shared', ' in ', 'entire', 'room'] # added spaces in front and behind 'in' to ensure accuracy\n",
    "big_regex = re.compile('|'.join(map(re.escape, prohibitedWords)))\n",
    "df['property_type_clean'] =  df['property_type'].apply(lambda x: big_regex.sub(\"\", x).strip())\n",
    "df['property_type_clean'] = np.where(df['property_type_clean']=='',df['room_type'],df['property_type_clean'])\n"
   ]
  },
  {
   "cell_type": "code",
   "execution_count": 52,
   "metadata": {},
   "outputs": [],
   "source": [
    "from collections import Counter\n",
    "a=Counter()\n",
    "a.update(df['property_type_clean'].values)\n",
    "sorted_property_types = sorted(a.items(), key=lambda x:-x[1])\n",
    "all_sum = np.nansum([i[1] for i in sorted_property_types])\n",
    "sorted_property_types = [(a,float(b)/all_sum) for a,b in sorted_property_types]\n",
    "pickle.dump(sorted_property_types, open(f'./utiles/sorted_property_types.pkl','wb'))\n"
   ]
  },
  {
   "cell_type": "code",
   "execution_count": 57,
   "metadata": {},
   "outputs": [],
   "source": [
    "a=Counter()\n",
    "a.update(df['room_type'].values)\n",
    "sorted_room_types = sorted(a.items(), key=lambda x:-x[1])\n",
    "all_sum = np.nansum([i[1] for i in sorted_room_types])\n",
    "sorted_room_types = [(a,float(b)/all_sum) for a,b in sorted_room_types]\n",
    "pickle.dump(sorted_room_types, open(f'./utiles/sorted_room_types.pkl','wb'))"
   ]
  },
  {
   "cell_type": "code",
   "execution_count": 58,
   "metadata": {},
   "outputs": [],
   "source": [
    "a_u = open(r\"./utiles/amenities_universe.txt\", \"r\",encoding='unicode escape').read().split('\\n')\n",
    "bb = pd.read_csv('./final_features/LA_extracted_all_features_imputed.csv')\n",
    "bb = bb[[i for i in bb.columns if 'Amenities' in i]]\n",
    "bb.columns = [i.split('Amenities_')[1] for i in bb.columns]\n",
    "bb = sorted(\n",
    "    dict(bb[[i for i in bb.columns if i in a_u]].sum(axis=0)).items(),key=lambda x:-x[1]\n",
    ")\n",
    "all_sum = np.nansum([i[1] for i in bb])\n",
    "bb = [(a,float(b)/all_sum) for a,b in bb]\n",
    "pickle.dump(bb, open(f'./utiles/sorted_amenities.pkl','wb'))\n"
   ]
  },
  {
   "cell_type": "code",
   "execution_count": 35,
   "metadata": {},
   "outputs": [],
   "source": []
  },
  {
   "cell_type": "code",
   "execution_count": 43,
   "metadata": {},
   "outputs": [],
   "source": []
  },
  {
   "cell_type": "code",
   "execution_count": null,
   "metadata": {},
   "outputs": [],
   "source": []
  }
 ],
 "metadata": {
  "kernelspec": {
   "display_name": "base",
   "language": "python",
   "name": "python3"
  },
  "language_info": {
   "codemirror_mode": {
    "name": "ipython",
    "version": 3
   },
   "file_extension": ".py",
   "mimetype": "text/x-python",
   "name": "python",
   "nbconvert_exporter": "python",
   "pygments_lexer": "ipython3",
   "version": "3.9.7"
  },
  "orig_nbformat": 4,
  "vscode": {
   "interpreter": {
    "hash": "1e9867b585c0f10e2eb480253e40cab44b53d9f15cdd7fb9c79b17a5cb2fa039"
   }
  }
 },
 "nbformat": 4,
 "nbformat_minor": 2
}
